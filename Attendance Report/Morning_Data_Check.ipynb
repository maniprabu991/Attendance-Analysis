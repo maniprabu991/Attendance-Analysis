{
 "cells": [
  {
   "cell_type": "code",
   "execution_count": 1,
   "id": "f5ba7e7e-276b-4db8-8ec7-21668a91011a",
   "metadata": {},
   "outputs": [],
   "source": [
    "#Import libraries\n",
    "import pandas as pd\n",
    "import numpy as np\n",
    "import matplotlib.pyplot as plt"
   ]
  },
  {
   "cell_type": "code",
   "execution_count": 2,
   "id": "8007ad08-1354-40f6-9ca1-84bfce60cb38",
   "metadata": {},
   "outputs": [],
   "source": [
    "# Load CSV files into DataFrames\n",
    "morning_df = pd.read_csv('Morning-28th-June.csv')"
   ]
  },
  {
   "cell_type": "code",
   "execution_count": 3,
   "id": "bbc90ff1-ce56-4ebb-a31f-3ca863f21475",
   "metadata": {},
   "outputs": [
    {
     "name": "stdout",
     "output_type": "stream",
     "text": [
      "Morning Data:\n"
     ]
    },
    {
     "data": {
      "text/html": [
       "<div>\n",
       "<style scoped>\n",
       "    .dataframe tbody tr th:only-of-type {\n",
       "        vertical-align: middle;\n",
       "    }\n",
       "\n",
       "    .dataframe tbody tr th {\n",
       "        vertical-align: top;\n",
       "    }\n",
       "\n",
       "    .dataframe thead th {\n",
       "        text-align: right;\n",
       "    }\n",
       "</style>\n",
       "<table border=\"1\" class=\"dataframe\">\n",
       "  <thead>\n",
       "    <tr style=\"text-align: right;\">\n",
       "      <th></th>\n",
       "      <th>Name (Original Name)</th>\n",
       "      <th>User Email</th>\n",
       "      <th>Join Time</th>\n",
       "      <th>Leave Time</th>\n",
       "      <th>Duration (Minutes)</th>\n",
       "      <th>Guest</th>\n",
       "      <th>In Waiting Room</th>\n",
       "    </tr>\n",
       "  </thead>\n",
       "  <tbody>\n",
       "    <tr>\n",
       "      <th>0</th>\n",
       "      <td>Krishna Singh (Akshita Roshan)</td>\n",
       "      <td>akshita@agie.ai</td>\n",
       "      <td>06/28/2024 09:52:45 AM</td>\n",
       "      <td>06/28/2024 10:17:06 AM</td>\n",
       "      <td>25</td>\n",
       "      <td>No</td>\n",
       "      <td>No</td>\n",
       "    </tr>\n",
       "    <tr>\n",
       "      <th>1</th>\n",
       "      <td>Chetan Kumar</td>\n",
       "      <td>NaN</td>\n",
       "      <td>06/28/2024 09:52:52 AM</td>\n",
       "      <td>06/28/2024 09:52:57 AM</td>\n",
       "      <td>1</td>\n",
       "      <td>Yes</td>\n",
       "      <td>Yes</td>\n",
       "    </tr>\n",
       "    <tr>\n",
       "      <th>2</th>\n",
       "      <td>Akshita Roshan</td>\n",
       "      <td>NaN</td>\n",
       "      <td>06/28/2024 09:52:52 AM</td>\n",
       "      <td>06/28/2024 09:53:08 AM</td>\n",
       "      <td>1</td>\n",
       "      <td>Yes</td>\n",
       "      <td>Yes</td>\n",
       "    </tr>\n",
       "    <tr>\n",
       "      <th>3</th>\n",
       "      <td>Kshitij Tardalkar</td>\n",
       "      <td>NaN</td>\n",
       "      <td>06/28/2024 09:52:56 AM</td>\n",
       "      <td>06/28/2024 09:56:52 AM</td>\n",
       "      <td>4</td>\n",
       "      <td>Yes</td>\n",
       "      <td>Yes</td>\n",
       "    </tr>\n",
       "    <tr>\n",
       "      <th>4</th>\n",
       "      <td>Chetan Kumar</td>\n",
       "      <td>NaN</td>\n",
       "      <td>06/28/2024 09:52:57 AM</td>\n",
       "      <td>06/28/2024 10:16:12 AM</td>\n",
       "      <td>24</td>\n",
       "      <td>Yes</td>\n",
       "      <td>No</td>\n",
       "    </tr>\n",
       "  </tbody>\n",
       "</table>\n",
       "</div>"
      ],
      "text/plain": [
       "             Name (Original Name)       User Email               Join Time  \\\n",
       "0  Krishna Singh (Akshita Roshan)  akshita@agie.ai  06/28/2024 09:52:45 AM   \n",
       "1                    Chetan Kumar              NaN  06/28/2024 09:52:52 AM   \n",
       "2                  Akshita Roshan              NaN  06/28/2024 09:52:52 AM   \n",
       "3               Kshitij Tardalkar              NaN  06/28/2024 09:52:56 AM   \n",
       "4                    Chetan Kumar              NaN  06/28/2024 09:52:57 AM   \n",
       "\n",
       "               Leave Time  Duration (Minutes) Guest In Waiting Room  \n",
       "0  06/28/2024 10:17:06 AM                  25    No              No  \n",
       "1  06/28/2024 09:52:57 AM                   1   Yes             Yes  \n",
       "2  06/28/2024 09:53:08 AM                   1   Yes             Yes  \n",
       "3  06/28/2024 09:56:52 AM                   4   Yes             Yes  \n",
       "4  06/28/2024 10:16:12 AM                  24   Yes              No  "
      ]
     },
     "execution_count": 3,
     "metadata": {},
     "output_type": "execute_result"
    }
   ],
   "source": [
    "# Explore the DataFrames \n",
    "print(\"Morning Data:\")\n",
    "morning_df.head()  # View the first few rows\n"
   ]
  },
  {
   "cell_type": "code",
   "execution_count": 4,
   "id": "909a0f05-fb47-47a2-850d-acea7377f621",
   "metadata": {},
   "outputs": [
    {
     "name": "stdout",
     "output_type": "stream",
     "text": [
      "<class 'pandas.core.frame.DataFrame'>\n",
      "RangeIndex: 724 entries, 0 to 723\n",
      "Data columns (total 7 columns):\n",
      " #   Column                Non-Null Count  Dtype \n",
      "---  ------                --------------  ----- \n",
      " 0   Name (Original Name)  724 non-null    object\n",
      " 1   User Email            16 non-null     object\n",
      " 2   Join Time             724 non-null    object\n",
      " 3   Leave Time            724 non-null    object\n",
      " 4   Duration (Minutes)    724 non-null    int64 \n",
      " 5   Guest                 724 non-null    object\n",
      " 6   In Waiting Room       724 non-null    object\n",
      "dtypes: int64(1), object(6)\n",
      "memory usage: 39.7+ KB\n"
     ]
    }
   ],
   "source": [
    "morning_df.info()"
   ]
  },
  {
   "cell_type": "code",
   "execution_count": 5,
   "id": "408ffce7-b078-47fb-8817-93d9b21fe6b7",
   "metadata": {},
   "outputs": [
    {
     "data": {
      "text/plain": [
       "Name (Original Name)      0\n",
       "User Email              708\n",
       "Join Time                 0\n",
       "Leave Time                0\n",
       "Duration (Minutes)        0\n",
       "Guest                     0\n",
       "In Waiting Room           0\n",
       "dtype: int64"
      ]
     },
     "execution_count": 5,
     "metadata": {},
     "output_type": "execute_result"
    }
   ],
   "source": [
    "morning_df.isnull().sum()"
   ]
  },
  {
   "cell_type": "code",
   "execution_count": 6,
   "id": "aac4eb1e-4f5f-4f35-b413-bd5928a0c116",
   "metadata": {},
   "outputs": [],
   "source": [
    "def univariate(morning_df):\n",
    "    Qual=[]\n",
    "    Quan=[]\n",
    "    for columnName in morning_df:\n",
    "        #print(columnName)\n",
    "        if(morning_df[columnName].dtypes =='O'):\n",
    "            #print('Qual')\n",
    "            Qual.append(columnName)\n",
    "        else:\n",
    "            #print('Quan')\n",
    "            Quan.append(columnName)\n",
    "    return Qual,Quan"
   ]
  },
  {
   "cell_type": "code",
   "execution_count": 7,
   "id": "faff3ac8-4d02-43c0-af13-48ad7c60ea36",
   "metadata": {},
   "outputs": [],
   "source": [
    "Qual,Quan = univariate(morning_df)"
   ]
  },
  {
   "cell_type": "code",
   "execution_count": 8,
   "id": "d7093851-302d-436f-b438-041002018ebf",
   "metadata": {},
   "outputs": [
    {
     "data": {
      "text/plain": [
       "['Duration (Minutes)']"
      ]
     },
     "execution_count": 8,
     "metadata": {},
     "output_type": "execute_result"
    }
   ],
   "source": [
    "Quan"
   ]
  },
  {
   "cell_type": "code",
   "execution_count": 9,
   "id": "869fea51-1eb8-4c3a-8565-cde8dec774d9",
   "metadata": {},
   "outputs": [
    {
     "data": {
      "text/plain": [
       "['Name (Original Name)',\n",
       " 'User Email',\n",
       " 'Join Time',\n",
       " 'Leave Time',\n",
       " 'Guest',\n",
       " 'In Waiting Room']"
      ]
     },
     "execution_count": 9,
     "metadata": {},
     "output_type": "execute_result"
    }
   ],
   "source": [
    "Qual"
   ]
  },
  {
   "cell_type": "code",
   "execution_count": 10,
   "id": "a3631098-31cf-4569-9d6c-f09b6d67d799",
   "metadata": {},
   "outputs": [
    {
     "name": "stdout",
     "output_type": "stream",
     "text": [
      "Null values in Qualitative columns:\n",
      "Name (Original Name): 0\n",
      "User Email: 708\n",
      "Join Time: 0\n",
      "Leave Time: 0\n",
      "Guest: 0\n",
      "In Waiting Room: 0\n",
      "\n",
      "Null values in Quantitative columns:\n",
      "Duration (Minutes): 0\n"
     ]
    }
   ],
   "source": [
    "def check_null_values(morning_df, Qual, Quan):\n",
    "    # Check for null values in Qual columns\n",
    "    qual_null_counts = {col: morning_df[col].isnull().sum() for col in Qual}\n",
    "    \n",
    "    # Check for null values in Quan columns\n",
    "    quan_null_counts = {col: morning_df[col].isnull().sum() for col in Quan}\n",
    "    \n",
    "    return qual_null_counts, quan_null_counts\n",
    "\n",
    "# Assuming Qual and Quan are already defined using the univariate function\n",
    "Qual, Quan = univariate(morning_df)\n",
    "\n",
    "# Check for null values in Qual and Quan columns separately\n",
    "qual_null_counts, quan_null_counts = check_null_values(morning_df, Qual, Quan)\n",
    "\n",
    "# Print the null value counts for Qual and Quan columns\n",
    "print(\"Null values in Qualitative columns:\")\n",
    "for col, count in qual_null_counts.items():\n",
    "    print(f\"{col}: {count}\")\n",
    "\n",
    "print(\"\\nNull values in Quantitative columns:\")\n",
    "for col, count in quan_null_counts.items():\n",
    "    print(f\"{col}: {count}\")\n"
   ]
  },
  {
   "cell_type": "code",
   "execution_count": 11,
   "id": "7b67942a-43ab-4dd8-8541-51b6eb62ef48",
   "metadata": {},
   "outputs": [
    {
     "data": {
      "text/html": [
       "<div>\n",
       "<style scoped>\n",
       "    .dataframe tbody tr th:only-of-type {\n",
       "        vertical-align: middle;\n",
       "    }\n",
       "\n",
       "    .dataframe tbody tr th {\n",
       "        vertical-align: top;\n",
       "    }\n",
       "\n",
       "    .dataframe thead th {\n",
       "        text-align: right;\n",
       "    }\n",
       "</style>\n",
       "<table border=\"1\" class=\"dataframe\">\n",
       "  <thead>\n",
       "    <tr style=\"text-align: right;\">\n",
       "      <th></th>\n",
       "      <th>Duration (Minutes)</th>\n",
       "    </tr>\n",
       "  </thead>\n",
       "  <tbody>\n",
       "    <tr>\n",
       "      <th>count</th>\n",
       "      <td>724.000000</td>\n",
       "    </tr>\n",
       "    <tr>\n",
       "      <th>mean</th>\n",
       "      <td>14.006906</td>\n",
       "    </tr>\n",
       "    <tr>\n",
       "      <th>std</th>\n",
       "      <td>13.083991</td>\n",
       "    </tr>\n",
       "    <tr>\n",
       "      <th>min</th>\n",
       "      <td>1.000000</td>\n",
       "    </tr>\n",
       "    <tr>\n",
       "      <th>25%</th>\n",
       "      <td>4.000000</td>\n",
       "    </tr>\n",
       "    <tr>\n",
       "      <th>50%</th>\n",
       "      <td>13.000000</td>\n",
       "    </tr>\n",
       "    <tr>\n",
       "      <th>75%</th>\n",
       "      <td>16.000000</td>\n",
       "    </tr>\n",
       "    <tr>\n",
       "      <th>max</th>\n",
       "      <td>97.000000</td>\n",
       "    </tr>\n",
       "  </tbody>\n",
       "</table>\n",
       "</div>"
      ],
      "text/plain": [
       "       Duration (Minutes)\n",
       "count          724.000000\n",
       "mean            14.006906\n",
       "std             13.083991\n",
       "min              1.000000\n",
       "25%              4.000000\n",
       "50%             13.000000\n",
       "75%             16.000000\n",
       "max             97.000000"
      ]
     },
     "execution_count": 11,
     "metadata": {},
     "output_type": "execute_result"
    }
   ],
   "source": [
    "morning_df.describe()"
   ]
  },
  {
   "cell_type": "code",
   "execution_count": 12,
   "id": "d9c27d27-848d-4f34-9e3f-d6f7fa68b7cd",
   "metadata": {},
   "outputs": [],
   "source": [
    "def central_tendency_IQR(morning_df, Quan):\n",
    "        descriptive = pd.DataFrame(index=['Mean', 'Median', 'Mode', 'Q1:25%', 'Q2:50%', 'Q3:75%', 'Q4:100%', 'IQR', 'Lesser IQR', 'Greater IQR', 'min', 'max', 'kurtosis', 'skew','var','std'], columns=Quan)\n",
    "    \n",
    "        for columnName in Quan:\n",
    "            descriptive.loc[\"Mean\", columnName] = morning_df[columnName].mean()\n",
    "            descriptive.loc[\"Median\", columnName] = morning_df[columnName].median()\n",
    "            descriptive.loc[\"Mode\", columnName] = morning_df[columnName].mode()[0]\n",
    "            descriptive.loc[\"Q1:25%\", columnName] = morning_df[columnName].quantile(0.25)\n",
    "            descriptive.loc[\"Q2:50%\", columnName] = morning_df[columnName].quantile(0.50)\n",
    "            descriptive.loc[\"Q3:75%\", columnName] = morning_df[columnName].quantile(0.75)\n",
    "            descriptive.loc[\"Q4:100%\", columnName] = morning_df[columnName].max()\n",
    "            descriptive.loc[\"IQR\", columnName] = morning_df[columnName].quantile(0.75) - morning_df[columnName].quantile(0.25)\n",
    "            descriptive.loc[\"Lesser IQR\", columnName] = morning_df[columnName].quantile(0.25) - 1.5 * (morning_df[columnName].quantile(0.75) - morning_df[columnName].quantile(0.25))\n",
    "            descriptive.loc[\"Greater IQR\", columnName] = morning_df[columnName].quantile(0.75) + 1.5 * (morning_df[columnName].quantile(0.75) - morning_df[columnName].quantile(0.25))\n",
    "            descriptive.loc[\"min\", columnName] = morning_df[columnName].min()\n",
    "            descriptive.loc[\"max\", columnName] = morning_df[columnName].max()\n",
    "            descriptive.loc[\"kurtosis\", columnName] = morning_df[columnName].kurtosis()\n",
    "            descriptive.loc[\"skew\", columnName] = morning_df[columnName].skew()\n",
    "            descriptive.loc[\"var\", columnName] = morning_df[columnName].var()\n",
    "            descriptive.loc[\"std\", columnName] = morning_df[columnName].std()\n",
    "        return descriptive"
   ]
  },
  {
   "cell_type": "code",
   "execution_count": 13,
   "id": "66ea3c7a-4384-44fe-8921-7c5af0f889fb",
   "metadata": {},
   "outputs": [],
   "source": [
    "descriptive = central_tendency_IQR(morning_df, Quan)"
   ]
  },
  {
   "cell_type": "code",
   "execution_count": 14,
   "id": "fb683ac0-5f7f-4392-b54b-5981574f54d9",
   "metadata": {},
   "outputs": [
    {
     "data": {
      "text/html": [
       "<div>\n",
       "<style scoped>\n",
       "    .dataframe tbody tr th:only-of-type {\n",
       "        vertical-align: middle;\n",
       "    }\n",
       "\n",
       "    .dataframe tbody tr th {\n",
       "        vertical-align: top;\n",
       "    }\n",
       "\n",
       "    .dataframe thead th {\n",
       "        text-align: right;\n",
       "    }\n",
       "</style>\n",
       "<table border=\"1\" class=\"dataframe\">\n",
       "  <thead>\n",
       "    <tr style=\"text-align: right;\">\n",
       "      <th></th>\n",
       "      <th>Duration (Minutes)</th>\n",
       "    </tr>\n",
       "  </thead>\n",
       "  <tbody>\n",
       "    <tr>\n",
       "      <th>Mean</th>\n",
       "      <td>14.006906</td>\n",
       "    </tr>\n",
       "    <tr>\n",
       "      <th>Median</th>\n",
       "      <td>13.0</td>\n",
       "    </tr>\n",
       "    <tr>\n",
       "      <th>Mode</th>\n",
       "      <td>1</td>\n",
       "    </tr>\n",
       "    <tr>\n",
       "      <th>Q1:25%</th>\n",
       "      <td>4.0</td>\n",
       "    </tr>\n",
       "    <tr>\n",
       "      <th>Q2:50%</th>\n",
       "      <td>13.0</td>\n",
       "    </tr>\n",
       "    <tr>\n",
       "      <th>Q3:75%</th>\n",
       "      <td>16.0</td>\n",
       "    </tr>\n",
       "    <tr>\n",
       "      <th>Q4:100%</th>\n",
       "      <td>97</td>\n",
       "    </tr>\n",
       "    <tr>\n",
       "      <th>IQR</th>\n",
       "      <td>12.0</td>\n",
       "    </tr>\n",
       "    <tr>\n",
       "      <th>Lesser IQR</th>\n",
       "      <td>-14.0</td>\n",
       "    </tr>\n",
       "    <tr>\n",
       "      <th>Greater IQR</th>\n",
       "      <td>34.0</td>\n",
       "    </tr>\n",
       "    <tr>\n",
       "      <th>min</th>\n",
       "      <td>1</td>\n",
       "    </tr>\n",
       "    <tr>\n",
       "      <th>max</th>\n",
       "      <td>97</td>\n",
       "    </tr>\n",
       "    <tr>\n",
       "      <th>kurtosis</th>\n",
       "      <td>2.7176</td>\n",
       "    </tr>\n",
       "    <tr>\n",
       "      <th>skew</th>\n",
       "      <td>1.554876</td>\n",
       "    </tr>\n",
       "    <tr>\n",
       "      <th>var</th>\n",
       "      <td>171.190824</td>\n",
       "    </tr>\n",
       "    <tr>\n",
       "      <th>std</th>\n",
       "      <td>13.083991</td>\n",
       "    </tr>\n",
       "  </tbody>\n",
       "</table>\n",
       "</div>"
      ],
      "text/plain": [
       "            Duration (Minutes)\n",
       "Mean                 14.006906\n",
       "Median                    13.0\n",
       "Mode                         1\n",
       "Q1:25%                     4.0\n",
       "Q2:50%                    13.0\n",
       "Q3:75%                    16.0\n",
       "Q4:100%                     97\n",
       "IQR                       12.0\n",
       "Lesser IQR               -14.0\n",
       "Greater IQR               34.0\n",
       "min                          1\n",
       "max                         97\n",
       "kurtosis                2.7176\n",
       "skew                  1.554876\n",
       "var                 171.190824\n",
       "std                  13.083991"
      ]
     },
     "execution_count": 14,
     "metadata": {},
     "output_type": "execute_result"
    }
   ],
   "source": [
    "descriptive"
   ]
  },
  {
   "cell_type": "code",
   "execution_count": 15,
   "id": "59c4a831-2289-4a71-8f58-753effb1799e",
   "metadata": {},
   "outputs": [],
   "source": [
    "def check_outliers(morning_df, descriptive, Quan):\n",
    "    lesser = []\n",
    "    greater = []\n",
    "    \n",
    "    # Check for outliers\n",
    "    for columnName in Quan:\n",
    "        if descriptive.loc['Lesser IQR', columnName] > descriptive.loc['min', columnName]:\n",
    "            lesser.append(columnName)\n",
    "\n",
    "        if descriptive.loc['Greater IQR', columnName] < descriptive.loc['max', columnName]:\n",
    "            greater.append(columnName)\n",
    "    \n",
    "    return lesser, greater\n"
   ]
  },
  {
   "cell_type": "code",
   "execution_count": 16,
   "id": "0cc7f1c0-241b-4f70-94dd-19050c9f007b",
   "metadata": {},
   "outputs": [
    {
     "data": {
      "text/plain": [
       "([], ['Duration (Minutes)'])"
      ]
     },
     "execution_count": 16,
     "metadata": {},
     "output_type": "execute_result"
    }
   ],
   "source": [
    "check_outliers(morning_df, descriptive, Quan)"
   ]
  },
  {
   "cell_type": "code",
   "execution_count": 17,
   "id": "76a54b6f-60c8-481b-97f1-69db3527786e",
   "metadata": {},
   "outputs": [],
   "source": [
    "lesser,greater = check_outliers(morning_df,descriptive, Quan)"
   ]
  },
  {
   "cell_type": "code",
   "execution_count": 18,
   "id": "e3abe076-9461-4c1b-8a4d-91f984e1b586",
   "metadata": {},
   "outputs": [
    {
     "data": {
      "text/plain": [
       "[]"
      ]
     },
     "execution_count": 18,
     "metadata": {},
     "output_type": "execute_result"
    }
   ],
   "source": [
    "lesser"
   ]
  },
  {
   "cell_type": "code",
   "execution_count": 19,
   "id": "51ca0fe4-b337-47d9-b5cc-b8ac5a22232c",
   "metadata": {},
   "outputs": [
    {
     "data": {
      "text/plain": [
       "['Duration (Minutes)']"
      ]
     },
     "execution_count": 19,
     "metadata": {},
     "output_type": "execute_result"
    }
   ],
   "source": [
    "greater"
   ]
  },
  {
   "cell_type": "code",
   "execution_count": 20,
   "id": "3c01cd86-224b-4ef6-8b38-bea8c49d77eb",
   "metadata": {},
   "outputs": [],
   "source": [
    "def replace_outliers(morning_df, descriptive, lesser, greater):\n",
    "    for columnName in lesser:\n",
    "        morning_df.loc[morning_df[columnName] < descriptive.loc['Lesser IQR', columnName], columnName] = descriptive.loc['Lesser IQR', columnName]\n",
    "\n",
    "    for columnName in greater:\n",
    "        morning_df.loc[morning_df[columnName] > descriptive.loc['Greater IQR', columnName], columnName] = descriptive.loc['Greater IQR', columnName]\n",
    "\n",
    "    return morning_df"
   ]
  },
  {
   "cell_type": "code",
   "execution_count": 21,
   "id": "347c7bd4-fce1-4364-8772-752c80d48579",
   "metadata": {},
   "outputs": [],
   "source": [
    "#Replace outliers in the dataset\n",
    "morning_df = replace_outliers(morning_df, descriptive, lesser, greater)"
   ]
  },
  {
   "cell_type": "code",
   "execution_count": 22,
   "id": "257afc16-9931-47ab-9d84-2d7a2b78e1b8",
   "metadata": {},
   "outputs": [
    {
     "data": {
      "text/html": [
       "<div>\n",
       "<style scoped>\n",
       "    .dataframe tbody tr th:only-of-type {\n",
       "        vertical-align: middle;\n",
       "    }\n",
       "\n",
       "    .dataframe tbody tr th {\n",
       "        vertical-align: top;\n",
       "    }\n",
       "\n",
       "    .dataframe thead th {\n",
       "        text-align: right;\n",
       "    }\n",
       "</style>\n",
       "<table border=\"1\" class=\"dataframe\">\n",
       "  <thead>\n",
       "    <tr style=\"text-align: right;\">\n",
       "      <th></th>\n",
       "      <th>Name (Original Name)</th>\n",
       "      <th>User Email</th>\n",
       "      <th>Join Time</th>\n",
       "      <th>Leave Time</th>\n",
       "      <th>Duration (Minutes)</th>\n",
       "      <th>Guest</th>\n",
       "      <th>In Waiting Room</th>\n",
       "    </tr>\n",
       "  </thead>\n",
       "  <tbody>\n",
       "    <tr>\n",
       "      <th>0</th>\n",
       "      <td>Krishna Singh (Akshita Roshan)</td>\n",
       "      <td>akshita@agie.ai</td>\n",
       "      <td>06/28/2024 09:52:45 AM</td>\n",
       "      <td>06/28/2024 10:17:06 AM</td>\n",
       "      <td>25</td>\n",
       "      <td>No</td>\n",
       "      <td>No</td>\n",
       "    </tr>\n",
       "    <tr>\n",
       "      <th>1</th>\n",
       "      <td>Chetan Kumar</td>\n",
       "      <td>NaN</td>\n",
       "      <td>06/28/2024 09:52:52 AM</td>\n",
       "      <td>06/28/2024 09:52:57 AM</td>\n",
       "      <td>1</td>\n",
       "      <td>Yes</td>\n",
       "      <td>Yes</td>\n",
       "    </tr>\n",
       "    <tr>\n",
       "      <th>2</th>\n",
       "      <td>Akshita Roshan</td>\n",
       "      <td>NaN</td>\n",
       "      <td>06/28/2024 09:52:52 AM</td>\n",
       "      <td>06/28/2024 09:53:08 AM</td>\n",
       "      <td>1</td>\n",
       "      <td>Yes</td>\n",
       "      <td>Yes</td>\n",
       "    </tr>\n",
       "    <tr>\n",
       "      <th>3</th>\n",
       "      <td>Kshitij Tardalkar</td>\n",
       "      <td>NaN</td>\n",
       "      <td>06/28/2024 09:52:56 AM</td>\n",
       "      <td>06/28/2024 09:56:52 AM</td>\n",
       "      <td>4</td>\n",
       "      <td>Yes</td>\n",
       "      <td>Yes</td>\n",
       "    </tr>\n",
       "    <tr>\n",
       "      <th>4</th>\n",
       "      <td>Chetan Kumar</td>\n",
       "      <td>NaN</td>\n",
       "      <td>06/28/2024 09:52:57 AM</td>\n",
       "      <td>06/28/2024 10:16:12 AM</td>\n",
       "      <td>24</td>\n",
       "      <td>Yes</td>\n",
       "      <td>No</td>\n",
       "    </tr>\n",
       "    <tr>\n",
       "      <th>...</th>\n",
       "      <td>...</td>\n",
       "      <td>...</td>\n",
       "      <td>...</td>\n",
       "      <td>...</td>\n",
       "      <td>...</td>\n",
       "      <td>...</td>\n",
       "      <td>...</td>\n",
       "    </tr>\n",
       "    <tr>\n",
       "      <th>719</th>\n",
       "      <td>Yash</td>\n",
       "      <td>NaN</td>\n",
       "      <td>06/28/2024 11:18:14 AM</td>\n",
       "      <td>06/28/2024 11:30:15 AM</td>\n",
       "      <td>13</td>\n",
       "      <td>Yes</td>\n",
       "      <td>No</td>\n",
       "    </tr>\n",
       "    <tr>\n",
       "      <th>720</th>\n",
       "      <td>Srilatha Patchava</td>\n",
       "      <td>NaN</td>\n",
       "      <td>06/28/2024 11:19:06 AM</td>\n",
       "      <td>06/28/2024 11:25:53 AM</td>\n",
       "      <td>7</td>\n",
       "      <td>Yes</td>\n",
       "      <td>No</td>\n",
       "    </tr>\n",
       "    <tr>\n",
       "      <th>721</th>\n",
       "      <td>Aditya Vikramm Singhal</td>\n",
       "      <td>NaN</td>\n",
       "      <td>06/28/2024 11:19:45 AM</td>\n",
       "      <td>06/28/2024 11:29:37 AM</td>\n",
       "      <td>10</td>\n",
       "      <td>Yes</td>\n",
       "      <td>No</td>\n",
       "    </tr>\n",
       "    <tr>\n",
       "      <th>722</th>\n",
       "      <td>Amit Bajpai</td>\n",
       "      <td>NaN</td>\n",
       "      <td>06/28/2024 11:22:17 AM</td>\n",
       "      <td>06/28/2024 11:30:25 AM</td>\n",
       "      <td>9</td>\n",
       "      <td>Yes</td>\n",
       "      <td>No</td>\n",
       "    </tr>\n",
       "    <tr>\n",
       "      <th>723</th>\n",
       "      <td>Jawaharlal Nehru</td>\n",
       "      <td>NaN</td>\n",
       "      <td>06/28/2024 11:25:37 AM</td>\n",
       "      <td>06/28/2024 11:30:25 AM</td>\n",
       "      <td>5</td>\n",
       "      <td>Yes</td>\n",
       "      <td>No</td>\n",
       "    </tr>\n",
       "  </tbody>\n",
       "</table>\n",
       "<p>724 rows × 7 columns</p>\n",
       "</div>"
      ],
      "text/plain": [
       "               Name (Original Name)       User Email               Join Time  \\\n",
       "0    Krishna Singh (Akshita Roshan)  akshita@agie.ai  06/28/2024 09:52:45 AM   \n",
       "1                      Chetan Kumar              NaN  06/28/2024 09:52:52 AM   \n",
       "2                    Akshita Roshan              NaN  06/28/2024 09:52:52 AM   \n",
       "3                 Kshitij Tardalkar              NaN  06/28/2024 09:52:56 AM   \n",
       "4                      Chetan Kumar              NaN  06/28/2024 09:52:57 AM   \n",
       "..                              ...              ...                     ...   \n",
       "719                            Yash              NaN  06/28/2024 11:18:14 AM   \n",
       "720               Srilatha Patchava              NaN  06/28/2024 11:19:06 AM   \n",
       "721          Aditya Vikramm Singhal              NaN  06/28/2024 11:19:45 AM   \n",
       "722                     Amit Bajpai              NaN  06/28/2024 11:22:17 AM   \n",
       "723                Jawaharlal Nehru              NaN  06/28/2024 11:25:37 AM   \n",
       "\n",
       "                 Leave Time  Duration (Minutes) Guest In Waiting Room  \n",
       "0    06/28/2024 10:17:06 AM                  25    No              No  \n",
       "1    06/28/2024 09:52:57 AM                   1   Yes             Yes  \n",
       "2    06/28/2024 09:53:08 AM                   1   Yes             Yes  \n",
       "3    06/28/2024 09:56:52 AM                   4   Yes             Yes  \n",
       "4    06/28/2024 10:16:12 AM                  24   Yes              No  \n",
       "..                      ...                 ...   ...             ...  \n",
       "719  06/28/2024 11:30:15 AM                  13   Yes              No  \n",
       "720  06/28/2024 11:25:53 AM                   7   Yes              No  \n",
       "721  06/28/2024 11:29:37 AM                  10   Yes              No  \n",
       "722  06/28/2024 11:30:25 AM                   9   Yes              No  \n",
       "723  06/28/2024 11:30:25 AM                   5   Yes              No  \n",
       "\n",
       "[724 rows x 7 columns]"
      ]
     },
     "execution_count": 22,
     "metadata": {},
     "output_type": "execute_result"
    }
   ],
   "source": [
    "morning_df"
   ]
  },
  {
   "cell_type": "code",
   "execution_count": 23,
   "id": "418d0966-88e7-46e9-bca5-2ba02d2fa8f8",
   "metadata": {},
   "outputs": [
    {
     "data": {
      "text/html": [
       "<div>\n",
       "<style scoped>\n",
       "    .dataframe tbody tr th:only-of-type {\n",
       "        vertical-align: middle;\n",
       "    }\n",
       "\n",
       "    .dataframe tbody tr th {\n",
       "        vertical-align: top;\n",
       "    }\n",
       "\n",
       "    .dataframe thead th {\n",
       "        text-align: right;\n",
       "    }\n",
       "</style>\n",
       "<table border=\"1\" class=\"dataframe\">\n",
       "  <thead>\n",
       "    <tr style=\"text-align: right;\">\n",
       "      <th></th>\n",
       "      <th>Duration (Minutes)</th>\n",
       "    </tr>\n",
       "  </thead>\n",
       "  <tbody>\n",
       "    <tr>\n",
       "      <th>Mean</th>\n",
       "      <td>14.006906</td>\n",
       "    </tr>\n",
       "    <tr>\n",
       "      <th>Median</th>\n",
       "      <td>13.0</td>\n",
       "    </tr>\n",
       "    <tr>\n",
       "      <th>Mode</th>\n",
       "      <td>1</td>\n",
       "    </tr>\n",
       "    <tr>\n",
       "      <th>Q1:25%</th>\n",
       "      <td>4.0</td>\n",
       "    </tr>\n",
       "    <tr>\n",
       "      <th>Q2:50%</th>\n",
       "      <td>13.0</td>\n",
       "    </tr>\n",
       "    <tr>\n",
       "      <th>Q3:75%</th>\n",
       "      <td>16.0</td>\n",
       "    </tr>\n",
       "    <tr>\n",
       "      <th>Q4:100%</th>\n",
       "      <td>97</td>\n",
       "    </tr>\n",
       "    <tr>\n",
       "      <th>IQR</th>\n",
       "      <td>12.0</td>\n",
       "    </tr>\n",
       "    <tr>\n",
       "      <th>Lesser IQR</th>\n",
       "      <td>-14.0</td>\n",
       "    </tr>\n",
       "    <tr>\n",
       "      <th>Greater IQR</th>\n",
       "      <td>34.0</td>\n",
       "    </tr>\n",
       "    <tr>\n",
       "      <th>min</th>\n",
       "      <td>1</td>\n",
       "    </tr>\n",
       "    <tr>\n",
       "      <th>max</th>\n",
       "      <td>97</td>\n",
       "    </tr>\n",
       "    <tr>\n",
       "      <th>kurtosis</th>\n",
       "      <td>2.7176</td>\n",
       "    </tr>\n",
       "    <tr>\n",
       "      <th>skew</th>\n",
       "      <td>1.554876</td>\n",
       "    </tr>\n",
       "    <tr>\n",
       "      <th>var</th>\n",
       "      <td>171.190824</td>\n",
       "    </tr>\n",
       "    <tr>\n",
       "      <th>std</th>\n",
       "      <td>13.083991</td>\n",
       "    </tr>\n",
       "  </tbody>\n",
       "</table>\n",
       "</div>"
      ],
      "text/plain": [
       "            Duration (Minutes)\n",
       "Mean                 14.006906\n",
       "Median                    13.0\n",
       "Mode                         1\n",
       "Q1:25%                     4.0\n",
       "Q2:50%                    13.0\n",
       "Q3:75%                    16.0\n",
       "Q4:100%                     97\n",
       "IQR                       12.0\n",
       "Lesser IQR               -14.0\n",
       "Greater IQR               34.0\n",
       "min                          1\n",
       "max                         97\n",
       "kurtosis                2.7176\n",
       "skew                  1.554876\n",
       "var                 171.190824\n",
       "std                  13.083991"
      ]
     },
     "execution_count": 23,
     "metadata": {},
     "output_type": "execute_result"
    }
   ],
   "source": [
    "descriptive"
   ]
  },
  {
   "cell_type": "code",
   "execution_count": 24,
   "id": "02529531-02f4-41eb-8734-a832bf28cc00",
   "metadata": {},
   "outputs": [],
   "source": [
    "def recheck_outliers_after_replace(morning_df, descriptive, Quan):\n",
    "    recheck_lesser = []\n",
    "    recheck_greater = []\n",
    "    \n",
    "    # Check for outliers after replacement\n",
    "    for columnName in Quan:\n",
    "        if descriptive.loc['Lesser IQR', columnName] > descriptive.loc['min', columnName]:\n",
    "            lesser.append(columnName)\n",
    "\n",
    "        if descriptive.loc['Greater IQR', columnName] < descriptive.loc['max', columnName]:\n",
    "            greater.append(columnName)\n",
    "    \n",
    "    return recheck_lesser, recheck_greater"
   ]
  },
  {
   "cell_type": "code",
   "execution_count": 25,
   "id": "4be6de4a-427d-4d66-86c2-6233c2eed793",
   "metadata": {},
   "outputs": [],
   "source": [
    "recheck_lesser, recheck_greater = recheck_outliers_after_replace(morning_df,descriptive, Quan)"
   ]
  },
  {
   "cell_type": "code",
   "execution_count": 26,
   "id": "a27aab4f-5fa7-4060-b847-0765ca126402",
   "metadata": {},
   "outputs": [
    {
     "data": {
      "text/plain": [
       "[]"
      ]
     },
     "execution_count": 26,
     "metadata": {},
     "output_type": "execute_result"
    }
   ],
   "source": [
    "recheck_lesser"
   ]
  },
  {
   "cell_type": "code",
   "execution_count": 27,
   "id": "a06cc00d-a413-427a-b6aa-e2902cadd3b6",
   "metadata": {},
   "outputs": [
    {
     "data": {
      "text/plain": [
       "[]"
      ]
     },
     "execution_count": 27,
     "metadata": {},
     "output_type": "execute_result"
    }
   ],
   "source": [
    "recheck_greater"
   ]
  },
  {
   "cell_type": "code",
   "execution_count": 28,
   "id": "32c0a0e8-d9da-46dc-a506-4c28c9c71f29",
   "metadata": {},
   "outputs": [
    {
     "name": "stdout",
     "output_type": "stream",
     "text": [
      "No outliers remain after replacement.\n"
     ]
    }
   ],
   "source": [
    "# Check if any outliers remain\n",
    "if recheck_lesser or recheck_greater:\n",
    "    print(\"Outliers still present after replacement.\")\n",
    "    # Perform additional actions if needed\n",
    "else:\n",
    "    print(\"No outliers remain after replacement.\")\n"
   ]
  },
  {
   "cell_type": "code",
   "execution_count": 29,
   "id": "517bfbc1-b202-43c3-9713-a38d04a3688c",
   "metadata": {},
   "outputs": [],
   "source": [
    "# Save the modified dataset to a new CSV file (for example)\n",
    "modified_file_path = 'morning.csv'\n",
    "morning_df.to_csv(modified_file_path, index=False)"
   ]
  },
  {
   "cell_type": "code",
   "execution_count": null,
   "id": "6d8f0a87-c1d1-49c5-8b10-7662aad4d78f",
   "metadata": {},
   "outputs": [],
   "source": []
  }
 ],
 "metadata": {
  "kernelspec": {
   "display_name": "Python 3 (ipykernel)",
   "language": "python",
   "name": "python3"
  },
  "language_info": {
   "codemirror_mode": {
    "name": "ipython",
    "version": 3
   },
   "file_extension": ".py",
   "mimetype": "text/x-python",
   "name": "python",
   "nbconvert_exporter": "python",
   "pygments_lexer": "ipython3",
   "version": "3.11.8"
  }
 },
 "nbformat": 4,
 "nbformat_minor": 5
}
